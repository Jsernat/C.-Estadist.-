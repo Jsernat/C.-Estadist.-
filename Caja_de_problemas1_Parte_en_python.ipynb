{
  "nbformat": 4,
  "nbformat_minor": 0,
  "metadata": {
    "colab": {
      "name": "Caja de problemas1- Parte en python.ipynb",
      "provenance": []
    },
    "kernelspec": {
      "name": "python3",
      "display_name": "Python 3"
    },
    "language_info": {
      "name": "python"
    }
  },
  "cells": [
    {
      "cell_type": "code",
      "execution_count": 42,
      "metadata": {
        "id": "2trerZr5aPdE"
      },
      "outputs": [],
      "source": [
        "from random import seed\n",
        "from random import random\n",
        "import numpy as np\n",
        "import matplotlib.pyplot as plt\n",
        "\n",
        "plt.close(\"all\")"
      ]
    },
    {
      "cell_type": "code",
      "source": [
        "#Python 1.1 - Ley de Beer\n",
        "seed(1001280374)\n",
        "DatosT = np.random.uniform(0, 1, 50)\n",
        "T100 = DatosT*100\n",
        "print(T100)\n",
        "\n",
        "A = 2 - np.log10(T100)\n",
        "\n",
        "#Gráficando\n",
        "plt.scatter(T100,A);\n",
        "plt.xlabel('Transmitancia(%)')\n",
        "plt.ylabel('Absorbancia')"
      ],
      "metadata": {
        "colab": {
          "base_uri": "https://localhost:8080/",
          "height": 463
        },
        "id": "5oWMtS2ccx5u",
        "outputId": "94bfd96a-fd03-472c-cd94-ba415a2ed147"
      },
      "execution_count": 53,
      "outputs": [
        {
          "output_type": "stream",
          "name": "stdout",
          "text": [
            "[18.5309296  85.98898655  7.9900176  98.45817702 40.81703466 59.15482681\n",
            " 96.68060124 52.45509298 84.85745012 49.79282226 75.88599357 37.43938888\n",
            " 70.39991827 70.88047212 48.16987048  0.90050377 62.76003057  2.23237066\n",
            " 95.65993878 89.861675    8.86039069 32.93656967 93.95596296 72.31810233\n",
            " 36.60721922 66.63804973  7.42849693 56.92670087 57.68192022 18.77966187\n",
            " 93.99383044 56.34494057 85.66631212 39.44045562 85.62311786 78.93175192\n",
            " 71.12406121 62.90223248 31.34406093  0.62577547 19.53084756 64.09208852\n",
            " 61.0069289  31.27439512 80.18395002 60.46182491 37.73731364 18.25110945\n",
            " 23.50908513 42.58884783]\n"
          ]
        },
        {
          "output_type": "execute_result",
          "data": {
            "text/plain": [
              "Text(0, 0.5, 'Absorbancia')"
            ]
          },
          "metadata": {},
          "execution_count": 53
        },
        {
          "output_type": "display_data",
          "data": {
            "text/plain": [
              "<Figure size 432x288 with 1 Axes>"
            ],
            "image/png": "[encoded data removed]"
          },
          "metadata": {
            "needs_background": "light"
          }
        }
      ]
    },
    {
      "cell_type": "code",
      "source": [
        ""
      ],
      "metadata": {
        "id": "slFbRSxphlt-"
      },
      "execution_count": null,
      "outputs": []
    },
    {
      "cell_type": "code",
      "source": [
        ""
      ],
      "metadata": {
        "id": "8CrdrX5cfesz"
      },
      "execution_count": null,
      "outputs": []
    }
  ]
}