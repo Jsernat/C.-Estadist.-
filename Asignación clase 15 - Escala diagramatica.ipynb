{
  "nbformat": 4,
  "nbformat_minor": 0,
  "metadata": {
    "colab": {
      "name": "Asignación clase 15",
      "provenance": []
    },
    "kernelspec": {
      "name": "python3",
      "display_name": "Python 3"
    },
    "language_info": {
      "name": "python"
    }
  },
  "cells": [
    {
      "cell_type": "code",
      "execution_count": 138,
      "metadata": {
        "id": "WX82xsRKyr44"
      },
      "outputs": [],
      "source": [
        "import pandas as pd\n",
        "import numpy as np\n",
        "from scipy.stats import lognorm\n"
      ]
    },
    {
      "cell_type": "markdown",
      "source": [
        "##Creando datos de distribución log-normal con ajuste a la escala diagramatica"
      ],
      "metadata": {
        "id": "Skt2TTYY_BJ0"
      }
    },
    {
      "cell_type": "code",
      "source": [
        "np.random.seed(1001280374)\n",
        "porc_enf = np.random.lognormal(mean = 0.8, sigma= 3.6, size= 50)*10/230.57275236636877\n",
        "porc_enf\n",
        "print(porc_enf.min())\n",
        "print(porc_enf.max())\n"
      ],
      "metadata": {
        "colab": {
          "base_uri": "https://localhost:8080/",
          "height": 0
        },
        "id": "OG_u-Nnr0CPb",
        "outputId": "47d0f868-c4f2-4aa5-c40a-94dec3ebc85f"
      },
      "execution_count": 139,
      "outputs": [
        {
          "output_type": "stream",
          "name": "stdout",
          "text": [
            "0.00017630693666562835\n",
            "100.00000000000001\n"
          ]
        }
      ]
    },
    {
      "cell_type": "markdown",
      "source": [
        "##Extrayendo media, mediana, quartiles y percentiles"
      ],
      "metadata": {
        "id": "4LnFzt2a_Koo"
      }
    },
    {
      "cell_type": "code",
      "source": [
        "#Media y mediana\n",
        "media = porc_enf.mean()\n",
        "print(media)\n",
        "mediana = np.median(porc_enf)\n",
        "print(mediana)\n",
        "\n"
      ],
      "metadata": {
        "colab": {
          "base_uri": "https://localhost:8080/",
          "height": 0
        },
        "id": "BNrQfJcj_X8o",
        "outputId": "43748e0e-128f-4007-ea06-c3fe16987b9d"
      },
      "execution_count": 140,
      "outputs": [
        {
          "output_type": "stream",
          "name": "stdout",
          "text": [
            "7.487900409580528\n",
            "0.03917561135696329\n"
          ]
        }
      ]
    },
    {
      "cell_type": "code",
      "source": [
        "#Cuartiles y percentiles\n",
        "porc_enf_serie = pd.Series(porc_enf)\n",
        "porc_enf_serie.quantile([0.05, 0.10, 0.15, 0.20, 0.25, 0.30, 0.35, 0.40, 0.45, 0.50, 0.55, 0.60, 0.65, 0.70, 0.75, 0.80, 0.85, 0.90, 0.95])"
      ],
      "metadata": {
        "colab": {
          "base_uri": "https://localhost:8080/",
          "height": 0
        },
        "id": "Om_mw-vLBtJf",
        "outputId": "d8dc4d9b-1f4f-4675-97ca-f067d01d543e"
      },
      "execution_count": 141,
      "outputs": [
        {
          "output_type": "execute_result",
          "data": {
            "text/plain": [
              "0.05     0.000661\n",
              "0.10     0.001506\n",
              "0.15     0.002792\n",
              "0.20     0.003936\n",
              "0.25     0.005949\n",
              "0.30     0.008847\n",
              "0.35     0.018681\n",
              "0.40     0.022516\n",
              "0.45     0.025273\n",
              "0.50     0.039176\n",
              "0.55     0.125703\n",
              "0.60     0.136628\n",
              "0.65     0.221510\n",
              "0.70     0.520111\n",
              "0.75     1.189248\n",
              "0.80     4.780379\n",
              "0.85     9.228978\n",
              "0.90    13.607142\n",
              "0.95    63.129747\n",
              "dtype: float64"
            ]
          },
          "metadata": {},
          "execution_count": 141
        }
      ]
    },
    {
      "cell_type": "markdown",
      "source": [
        "##Categorizando la variable según la escala diagramatica del articulo referencia y haciendo representaciones gráficas"
      ],
      "metadata": {
        "id": "8D2yjUcPDRBY"
      }
    },
    {
      "cell_type": "code",
      "source": [
        "\n",
        "cat_enf = []\n",
        "for pe_i in porc_enf:\n",
        "  if(pe_i < 4):\n",
        "    cat_enf.append('N2')\n",
        "  elif(pe_i < 8):\n",
        "    cat_enf.append('N4')\n",
        "  elif(pe_i < 12):\n",
        "    cat_enf.append('N8')\n",
        "  elif(pe_i < 27):\n",
        "    cat_enf.append('N12')\n",
        "  elif(pe_i < 45):\n",
        "    cat_enf.append('N27')\n",
        "  elif(pe_i < 71):\n",
        "    cat_enf.append('N45')\n",
        "  elif(pe_i < 93):\n",
        "    cat_enf.append('N71')\n",
        "  else:\n",
        "    cat_enf.append('N93')\n",
        "\n",
        "cat_enf_serie = pd.Series(cat_enf)\n",
        "cat_enf_serie.describe()"
      ],
      "metadata": {
        "colab": {
          "base_uri": "https://localhost:8080/",
          "height": 0
        },
        "id": "WzQ_ulbB380q",
        "outputId": "b3d6b46e-bcd1-4d85-ce30-ddb4066883af"
      },
      "execution_count": 142,
      "outputs": [
        {
          "output_type": "execute_result",
          "data": {
            "text/plain": [
              "count     50\n",
              "unique     6\n",
              "top       N2\n",
              "freq      39\n",
              "dtype: object"
            ]
          },
          "metadata": {},
          "execution_count": 142
        }
      ]
    },
    {
      "cell_type": "code",
      "source": [
        "cat_enf_serie.value_counts()"
      ],
      "metadata": {
        "colab": {
          "base_uri": "https://localhost:8080/",
          "height": 0
        },
        "id": "Kx2NQ7HKEHgY",
        "outputId": "7851a388-925e-45d8-c2eb-bf2350bd8557"
      },
      "execution_count": 143,
      "outputs": [
        {
          "output_type": "execute_result",
          "data": {
            "text/plain": [
              "N2     39\n",
              "N8      3\n",
              "N45     3\n",
              "N4      2\n",
              "N12     2\n",
              "N93     1\n",
              "dtype: int64"
            ]
          },
          "metadata": {},
          "execution_count": 143
        }
      ]
    },
    {
      "cell_type": "code",
      "source": [
        "import seaborn as sns\n",
        "sns.kdeplot(porc_enf)\n"
      ],
      "metadata": {
        "colab": {
          "base_uri": "https://localhost:8080/",
          "height": 282
        },
        "id": "ZmpL98FkEM9X",
        "outputId": "0f3a4489-37c7-4d51-d240-43d238138dc8"
      },
      "execution_count": 144,
      "outputs": [
        {
          "output_type": "execute_result",
          "data": {
            "text/plain": [
              "<matplotlib.axes._subplots.AxesSubplot at 0x7f4872b948d0>"
            ]
          },
          "metadata": {},
          "execution_count": 144
        },
        {
          "output_type": "display_data",
          "data": {
            "text/plain": [
              "<Figure size 432x288 with 1 Axes>"
            ],
            "image/png": "[encoded data removed]"
          },
          "metadata": {
            "needs_background": "light"
          }
        }
      ]
    },
    {
      "cell_type": "code",
      "source": [
        "cat_enf_serie.value_counts().plot(kind='bar')"
      ],
      "metadata": {
        "colab": {
          "base_uri": "https://localhost:8080/",
          "height": 293
        },
        "id": "3WYIxPHIY3le",
        "outputId": "1516d37d-2297-4332-9d57-c490f7722ee7"
      },
      "execution_count": 150,
      "outputs": [
        {
          "output_type": "execute_result",
          "data": {
            "text/plain": [
              "<matplotlib.axes._subplots.AxesSubplot at 0x7f487262ac50>"
            ]
          },
          "metadata": {},
          "execution_count": 150
        },
        {
          "output_type": "display_data",
          "data": {
            "text/plain": [
              "<Figure size 432x288 with 1 Axes>"
            ],
            "image/png": "[encoded data removed]"
          },
          "metadata": {
            "needs_background": "light"
          }
        }
      ]
    },
    {
      "cell_type": "code",
      "source": [
        "sns.histplot(porc_enf)\n"
      ],
      "metadata": {
        "colab": {
          "base_uri": "https://localhost:8080/",
          "height": 282
        },
        "id": "sb0oN0wREdm4",
        "outputId": "60d7dc8b-01d6-485d-ea2e-1484eaece735"
      },
      "execution_count": 149,
      "outputs": [
        {
          "output_type": "execute_result",
          "data": {
            "text/plain": [
              "<matplotlib.axes._subplots.AxesSubplot at 0x7f487266dad0>"
            ]
          },
          "metadata": {},
          "execution_count": 149
        },
        {
          "output_type": "display_data",
          "data": {
            "text/plain": [
              "<Figure size 432x288 with 1 Axes>"
            ],
            "image/png": "[encoded data removed]"
          },
          "metadata": {
            "needs_background": "light"
          }
        }
      ]
    },
    {
      "cell_type": "markdown",
      "source": [
        "##Examinando en que posición debo ubicarme en la escala para estimar la severidad real"
      ],
      "metadata": {
        "id": "uNLBV6XvP6Wu"
      }
    },
    {
      "cell_type": "code",
      "source": [
        "cont = cat_enf_serie.value_counts()\n",
        "\n",
        "# Con el punto de la escala\n",
        "frec1 = cont*[4, 8, 12, 27, 45, 71]\n",
        "print(frec1.sum()/50)\n",
        "\n",
        "# Con el punto medio\n",
        "frec2 = cont*[2, 4, 6, 13.5, 24.5, 46.5]\n",
        "print(frec2.sum()/50)\n",
        "\n",
        "# punto percentil 1%\n",
        "frec3 = cont*[0.04, 0.08, 0.12, 0.27, 0.45, 0.71]\n",
        "print(frec3.sum()/50)"
      ],
      "metadata": {
        "colab": {
          "base_uri": "https://localhost:8080/",
          "height": 0
        },
        "id": "wLKl5SLIP8os",
        "outputId": "3539be57-8ef7-4747-fdb0-62ba6e83403e"
      },
      "execution_count": 147,
      "outputs": [
        {
          "output_type": "stream",
          "name": "stdout",
          "text": [
            "8.62\n",
            "4.61\n",
            "0.08620000000000001\n"
          ]
        }
      ]
    },
    {
      "cell_type": "markdown",
      "source": [
        "Conclusión: La mayor densidad de datos corresponde con el valor de la mediana: 0,04 o en su defecto la mayoría son valores que pertenecen al grupo que en la escala corresponde al 2% de severidad. Estimando la severidad con la escala diagramatica se ignora completamente la severidad real, para hallarla hay que considerar valores en la escala menores al percentil 1%. "
      ],
      "metadata": {
        "id": "Wg-3IAfyWfAR"
      }
    }
  ]
}